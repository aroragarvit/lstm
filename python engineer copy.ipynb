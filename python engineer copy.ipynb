{
 "cells": [
  {
   "cell_type": "code",
   "execution_count": null,
   "id": "4b618f74",
   "metadata": {},
   "outputs": [],
   "source": [
    "# pip install streamlit fbprophet yfinance plotly\n",
    "import streamlit as st\n",
    "from datetime import date\n",
    "\n",
    "import yfinance as yf\n",
    "from fbprophet import Prophet\n",
    "from fbprophet.plot import plot_plotly\n",
    "from plotly import graph_objs as go\n",
    "\n",
    "START = \"2015-01-01\"\n",
    "TODAY = date.today().strftime(\"%Y-%m-%d\")\n",
    "\n",
    "st.title('Stock Forecast App')\n",
    "\n",
    "stocks = ('GOOG', 'AAPL', 'MSFT', 'GME')\n",
    "selected_stock = st.selectbox('Select dataset for prediction', stocks)\n",
    "\n",
    "n_years = st.slider('Years of prediction:', 1, 4)\n",
    "period = n_years * 365\n",
    "\n",
    "\n",
    "@st.cache\n",
    "def load_data(ticker):\n",
    "    data = yf.download(ticker, START, TODAY)\n",
    "    data.reset_index(inplace=True)\n",
    "    return data\n",
    "\n",
    "\t\n",
    "data_load_state = st.text('Loading data...')\n",
    "data = load_data(selected_stock)\n",
    "data_load_state.text('Loading data... done!')\n",
    "\n",
    "st.subheader('Raw data')\n",
    "st.write(data.tail())\n",
    "\n",
    "# Plot raw data\n",
    "def plot_raw_data():\n",
    "\tfig = go.Figure()\n",
    "\tfig.add_trace(go.Scatter(x=data['Date'], y=data['Open'], name=\"stock_open\"))\n",
    "\tfig.add_trace(go.Scatter(x=data['Date'], y=data['Close'], name=\"stock_close\"))\n",
    "\tfig.layout.update(title_text='Time Series data with Rangeslider', xaxis_rangeslider_visible=True)\n",
    "\tst.plotly_chart(fig)\n",
    "\t\n",
    "plot_raw_data()\n",
    "\n",
    "# Predict forecast with Prophet.\n",
    "df_train = data[['Date','Close']]\n",
    "df_train = df_train.rename(columns={\"Date\": \"ds\", \"Close\": \"y\"})\n",
    "\n",
    "m = Prophet()\n",
    "m.fit(df_train)\n",
    "future = m.make_future_dataframe(periods=period)\n",
    "forecast = m.predict(future)\n",
    "\n",
    "# Show and plot forecast\n",
    "st.subheader('Forecast data')\n",
    "st.write(forecast.tail())\n",
    "    \n",
    "st.write(f'Forecast plot for {n_years} years')\n",
    "fig1 = plot_plotly(m, forecast)\n",
    "st.plotly_chart(fig1)\n",
    "\n",
    "st.write(\"Forecast components\")\n",
    "fig2 = m.plot_components(forecast)\n",
    "st.write(fig2)"
   ]
  },
  {
   "cell_type": "code",
   "execution_count": null,
   "id": "29af0056",
   "metadata": {},
   "outputs": [],
   "source": [
    "! pip install streamlit fbprophet yfinance plotly"
   ]
  },
  {
   "cell_type": "code",
   "execution_count": null,
   "id": "0cecba2b",
   "metadata": {},
   "outputs": [],
   "source": []
  }
 ],
 "metadata": {
  "kernelspec": {
   "display_name": "Python 3 (ipykernel)",
   "language": "python",
   "name": "python3"
  },
  "language_info": {
   "codemirror_mode": {
    "name": "ipython",
    "version": 3
   },
   "file_extension": ".py",
   "mimetype": "text/x-python",
   "name": "python",
   "nbconvert_exporter": "python",
   "pygments_lexer": "ipython3",
   "version": "3.10.4"
  }
 },
 "nbformat": 4,
 "nbformat_minor": 5
}
